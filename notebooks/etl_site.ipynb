{
 "cells": [
  {
   "cell_type": "markdown",
   "metadata": {},
   "source": [
    "# Обработка датасета"
   ]
  },
  {
   "cell_type": "markdown",
   "metadata": {},
   "source": [
    "## Библиотеки и скрипты"
   ]
  },
  {
   "cell_type": "code",
   "execution_count": 1,
   "metadata": {},
   "outputs": [],
   "source": [
    "import numpy as np\n",
    "import pandas as pd\n",
    "import re\n",
    "from transliterate import translit, get_available_language_codes\n",
    "\n",
    "# Библиотека для предобработки датасетов\n",
    "import os, sys\n",
    "module_path = os.path.abspath(os.path.join(os.pardir))\n",
    "if module_path not in sys.path:\n",
    "    sys.path.append(module_path)\n",
    "from data_preprocessing import DataPreprocessor\n",
    "dp = DataPreprocessor()\n",
    "\n",
    "# Отключаем предупреждения\n",
    "import warnings\n",
    "warnings.simplefilter('ignore')"
   ]
  },
  {
   "cell_type": "markdown",
   "metadata": {},
   "source": [
    "## Обзор данных"
   ]
  },
  {
   "cell_type": "code",
   "execution_count": 2,
   "metadata": {},
   "outputs": [],
   "source": [
    "# Загружаем датасет\n",
    "df = pd.read_csv('../data/wp_cn_requests_price.csv')\n",
    "# Удаляем дубликаты\n",
    "df = df.drop_duplicates(subset='id_session', keep=\"first\")\n",
    "df = df.drop_duplicates(subset='id_YM', keep=\"first\")"
   ]
  },
  {
   "cell_type": "code",
   "execution_count": 3,
   "metadata": {},
   "outputs": [
    {
     "data": {
      "text/html": [
       "<div>\n",
       "<style scoped>\n",
       "    .dataframe tbody tr th:only-of-type {\n",
       "        vertical-align: middle;\n",
       "    }\n",
       "\n",
       "    .dataframe tbody tr th {\n",
       "        vertical-align: top;\n",
       "    }\n",
       "\n",
       "    .dataframe thead th {\n",
       "        text-align: right;\n",
       "    }\n",
       "</style>\n",
       "<table border=\"1\" class=\"dataframe\">\n",
       "  <thead>\n",
       "    <tr style=\"text-align: right;\">\n",
       "      <th></th>\n",
       "      <th>id</th>\n",
       "      <th>id_session</th>\n",
       "      <th>id_YM</th>\n",
       "      <th>id_GA</th>\n",
       "      <th>created</th>\n",
       "      <th>location</th>\n",
       "      <th>branch</th>\n",
       "      <th>direction</th>\n",
       "      <th>amount</th>\n",
       "      <th>price</th>\n",
       "    </tr>\n",
       "  </thead>\n",
       "  <tbody>\n",
       "    <tr>\n",
       "      <th>0</th>\n",
       "      <td>15</td>\n",
       "      <td>e70acf53510a6d7e46f75e16bf37a4eb</td>\n",
       "      <td></td>\n",
       "      <td>NaN</td>\n",
       "      <td>2020-12-23 10:35:19</td>\n",
       "      <td>Yeysk</td>\n",
       "      <td>Выездное обслуживание оборудования</td>\n",
       "      <td>Спецтехника</td>\n",
       "      <td>100</td>\n",
       "      <td>800</td>\n",
       "    </tr>\n",
       "    <tr>\n",
       "      <th>68</th>\n",
       "      <td>88</td>\n",
       "      <td>af0c2ce6101731fd9b44046f99677001</td>\n",
       "      <td>160734218558947414</td>\n",
       "      <td>GA1.2.898178360.1607513465</td>\n",
       "      <td>2020-12-24 13:34:18</td>\n",
       "      <td>Moscow</td>\n",
       "      <td>Мобильные сотрудники</td>\n",
       "      <td>Монтажники</td>\n",
       "      <td>50</td>\n",
       "      <td>NaN</td>\n",
       "    </tr>\n",
       "    <tr>\n",
       "      <th>71</th>\n",
       "      <td>91</td>\n",
       "      <td>8f2b41da2eaa4728de2a58961fa4b28f</td>\n",
       "      <td>1608812392678591992</td>\n",
       "      <td>GA1.2.710466435.1608812392</td>\n",
       "      <td>2020-12-24 15:20:58</td>\n",
       "      <td>Moscow</td>\n",
       "      <td>Выездное обслуживание оборудования</td>\n",
       "      <td>Обслуживание розничных сетей</td>\n",
       "      <td>10</td>\n",
       "      <td>9500</td>\n",
       "    </tr>\n",
       "    <tr>\n",
       "      <th>72</th>\n",
       "      <td>92</td>\n",
       "      <td>0b23e19cc92a1be6413794061b835692</td>\n",
       "      <td>1608813210562849312</td>\n",
       "      <td>GA1.2.1067518638.1608813213</td>\n",
       "      <td>2020-12-24 15:37:04</td>\n",
       "      <td>Voronezh</td>\n",
       "      <td>Управление самозанятыми, ИП и подрядчиками</td>\n",
       "      <td>Управление ИП и самозанятыми</td>\n",
       "      <td>1</td>\n",
       "      <td>NaN</td>\n",
       "    </tr>\n",
       "    <tr>\n",
       "      <th>74</th>\n",
       "      <td>94</td>\n",
       "      <td>ff192463715f0279e7da68abcf7188ef</td>\n",
       "      <td>1608818770263758756</td>\n",
       "      <td>GA1.2.1966351661.1608818770</td>\n",
       "      <td>2020-12-24 17:10:29</td>\n",
       "      <td>Moscow</td>\n",
       "      <td>Выездное обслуживание оборудования</td>\n",
       "      <td>HoReCa</td>\n",
       "      <td>100</td>\n",
       "      <td>80200</td>\n",
       "    </tr>\n",
       "  </tbody>\n",
       "</table>\n",
       "</div>"
      ],
      "text/plain": [
       "    id                        id_session                id_YM  \\\n",
       "0   15  e70acf53510a6d7e46f75e16bf37a4eb                        \n",
       "68  88  af0c2ce6101731fd9b44046f99677001   160734218558947414   \n",
       "71  91  8f2b41da2eaa4728de2a58961fa4b28f  1608812392678591992   \n",
       "72  92  0b23e19cc92a1be6413794061b835692  1608813210562849312   \n",
       "74  94  ff192463715f0279e7da68abcf7188ef  1608818770263758756   \n",
       "\n",
       "                          id_GA              created  location  \\\n",
       "0                           NaN  2020-12-23 10:35:19     Yeysk   \n",
       "68   GA1.2.898178360.1607513465  2020-12-24 13:34:18    Moscow   \n",
       "71   GA1.2.710466435.1608812392  2020-12-24 15:20:58    Moscow   \n",
       "72  GA1.2.1067518638.1608813213  2020-12-24 15:37:04  Voronezh   \n",
       "74  GA1.2.1966351661.1608818770  2020-12-24 17:10:29    Moscow   \n",
       "\n",
       "                                        branch                     direction  \\\n",
       "0           Выездное обслуживание оборудования                   Спецтехника   \n",
       "68                        Мобильные сотрудники                    Монтажники   \n",
       "71          Выездное обслуживание оборудования  Обслуживание розничных сетей   \n",
       "72  Управление самозанятыми, ИП и подрядчиками  Управление ИП и самозанятыми   \n",
       "74          Выездное обслуживание оборудования                        HoReCa   \n",
       "\n",
       "    amount  price  \n",
       "0      100    800  \n",
       "68      50    NaN  \n",
       "71      10   9500  \n",
       "72       1    NaN  \n",
       "74     100  80200  "
      ]
     },
     "execution_count": 3,
     "metadata": {},
     "output_type": "execute_result"
    }
   ],
   "source": [
    "df.head(5)"
   ]
  },
  {
   "cell_type": "code",
   "execution_count": 4,
   "metadata": {},
   "outputs": [
    {
     "data": {
      "text/plain": [
       "(1004, 10)"
      ]
     },
     "execution_count": 4,
     "metadata": {},
     "output_type": "execute_result"
    }
   ],
   "source": [
    "df.shape"
   ]
  },
  {
   "cell_type": "markdown",
   "metadata": {},
   "source": [
    "## Обработка данных"
   ]
  },
  {
   "cell_type": "code",
   "execution_count": 5,
   "metadata": {},
   "outputs": [],
   "source": [
    "# Удаление ненужных данных\n",
    "columns = ['id', 'id_session']\n",
    "df = dp.drop_col(df, columns)\n",
    "\n",
    "# Убираем 2020 год (там одни тесты)\n",
    "df = df[df['created'].str.contains('2021.*')]"
   ]
  },
  {
   "cell_type": "code",
   "execution_count": 6,
   "metadata": {},
   "outputs": [
    {
     "data": {
      "text/plain": [
       "Index(['id_YM', 'id_GA', 'created', 'location', 'branch', 'direction',\n",
       "       'amount', 'price'],\n",
       "      dtype='object')"
      ]
     },
     "execution_count": 6,
     "metadata": {},
     "output_type": "execute_result"
    }
   ],
   "source": [
    "df.columns"
   ]
  },
  {
   "cell_type": "code",
   "execution_count": 7,
   "metadata": {},
   "outputs": [
    {
     "data": {
      "text/plain": [
       "Index(['st_id_ym', 'st_id_ga', 'st_created', 'st_location', 'st_branch',\n",
       "       'st_direction', 'st_amount', 'st_price'],\n",
       "      dtype='object')"
      ]
     },
     "execution_count": 7,
     "metadata": {},
     "output_type": "execute_result"
    }
   ],
   "source": [
    "# Переименование столбцов\n",
    "df.columns = dp.get_translite(df.columns, 'st_')\n",
    "df.columns"
   ]
  },
  {
   "cell_type": "code",
   "execution_count": 8,
   "metadata": {},
   "outputs": [
    {
     "name": "stdout",
     "output_type": "stream",
     "text": [
      "<class 'pandas.core.frame.DataFrame'>\n",
      "Int64Index: 943 entries, 226 to 2812\n",
      "Data columns (total 8 columns):\n",
      " #   Column        Non-Null Count  Dtype \n",
      "---  ------        --------------  ----- \n",
      " 0   st_id_ym      943 non-null    object\n",
      " 1   st_id_ga      915 non-null    object\n",
      " 2   st_created    943 non-null    object\n",
      " 3   st_location   943 non-null    object\n",
      " 4   st_branch     943 non-null    object\n",
      " 5   st_direction  943 non-null    object\n",
      " 6   st_amount     943 non-null    int64 \n",
      " 7   st_price      943 non-null    object\n",
      "dtypes: int64(1), object(7)\n",
      "memory usage: 66.3+ KB\n"
     ]
    },
    {
     "data": {
      "text/plain": [
       "st_id_ym         0\n",
       "st_id_ga        28\n",
       "st_created       0\n",
       "st_location      0\n",
       "st_branch        0\n",
       "st_direction     0\n",
       "st_amount        0\n",
       "st_price         0\n",
       "dtype: int64"
      ]
     },
     "execution_count": 8,
     "metadata": {},
     "output_type": "execute_result"
    }
   ],
   "source": [
    "df.info()\n",
    "df.isna().sum()"
   ]
  },
  {
   "cell_type": "code",
   "execution_count": 9,
   "metadata": {},
   "outputs": [],
   "source": [
    "# Обработка выбросов\n",
    "df.loc[df['st_amount'] > 2000, 'st_amount'] = df['st_amount'].median()"
   ]
  },
  {
   "cell_type": "code",
   "execution_count": 10,
   "metadata": {},
   "outputs": [],
   "source": [
    "# Корректировка значений\n",
    "df.loc[df['st_id_ym'] == '', 'st_id_ym'] = 'undefined'\n",
    "df.loc[df['st_id_ga'] == '', 'st_id_ga'] = 'undefined'\n",
    "df.loc[df['st_id_ym'].isnull(), 'st_id_ym'] = 'undefined'\n",
    "df.loc[df['st_id_ga'].isnull(), 'st_id_ga'] = 'undefined'\n",
    "df.loc[df['st_price'] == 'По запросу', 'st_price'] = 0\n",
    "df.loc[df['st_price'] == 0.0, 'st_price'] = df['st_price'].median()\n",
    "\n",
    "# Поиск и замена по регулярке\n",
    "df.loc[df['st_location'].str.contains(\"’\"), 'st_location'] = df['st_location'].str.replace(\"’\", \"\")\n",
    "df.loc[df['st_location'].str.contains(r\"\\\\'\"), 'st_location'] = df['st_location'].str.replace(r\"\\\\'\", \"\")\n",
    "\n",
    "# Заменим название направления типа \"Другое\" на название корневой отрасли\n",
    "df.loc[df['st_direction'] == 'Другое', 'st_direction'] = df['st_branch']"
   ]
  },
  {
   "cell_type": "code",
   "execution_count": 11,
   "metadata": {},
   "outputs": [],
   "source": [
    "# df.loc[df['st_location'].str.contains(\"\\'\")]"
   ]
  },
  {
   "cell_type": "code",
   "execution_count": 12,
   "metadata": {},
   "outputs": [],
   "source": [
    "# Приведение типов\n",
    "df = dp.astype_col(df, ['st_amount'], coltype='uint8')\n",
    "df = dp.astype_col(df, ['st_price'], coltype='float64')"
   ]
  },
  {
   "cell_type": "code",
   "execution_count": 13,
   "metadata": {
    "scrolled": true
   },
   "outputs": [
    {
     "name": "stdout",
     "output_type": "stream",
     "text": [
      "<class 'pandas.core.frame.DataFrame'>\n",
      "Int64Index: 943 entries, 226 to 2812\n",
      "Data columns (total 8 columns):\n",
      " #   Column        Non-Null Count  Dtype  \n",
      "---  ------        --------------  -----  \n",
      " 0   st_id_ym      943 non-null    object \n",
      " 1   st_id_ga      943 non-null    object \n",
      " 2   st_created    943 non-null    object \n",
      " 3   st_location   943 non-null    object \n",
      " 4   st_branch     943 non-null    object \n",
      " 5   st_direction  943 non-null    object \n",
      " 6   st_amount     943 non-null    uint8  \n",
      " 7   st_price      943 non-null    float64\n",
      "dtypes: float64(1), object(6), uint8(1)\n",
      "memory usage: 92.1+ KB\n"
     ]
    }
   ],
   "source": [
    "df.info()"
   ]
  },
  {
   "cell_type": "code",
   "execution_count": 14,
   "metadata": {
    "scrolled": true
   },
   "outputs": [
    {
     "data": {
      "text/html": [
       "<div>\n",
       "<style scoped>\n",
       "    .dataframe tbody tr th:only-of-type {\n",
       "        vertical-align: middle;\n",
       "    }\n",
       "\n",
       "    .dataframe tbody tr th {\n",
       "        vertical-align: top;\n",
       "    }\n",
       "\n",
       "    .dataframe thead th {\n",
       "        text-align: right;\n",
       "    }\n",
       "</style>\n",
       "<table border=\"1\" class=\"dataframe\">\n",
       "  <thead>\n",
       "    <tr style=\"text-align: right;\">\n",
       "      <th></th>\n",
       "      <th>st_amount</th>\n",
       "      <th>st_price</th>\n",
       "    </tr>\n",
       "  </thead>\n",
       "  <tbody>\n",
       "    <tr>\n",
       "      <th>count</th>\n",
       "      <td>943.000000</td>\n",
       "      <td>943.000000</td>\n",
       "    </tr>\n",
       "    <tr>\n",
       "      <th>mean</th>\n",
       "      <td>17.652174</td>\n",
       "      <td>14229.703075</td>\n",
       "    </tr>\n",
       "    <tr>\n",
       "      <th>std</th>\n",
       "      <td>35.881586</td>\n",
       "      <td>31257.275554</td>\n",
       "    </tr>\n",
       "    <tr>\n",
       "      <th>min</th>\n",
       "      <td>0.000000</td>\n",
       "      <td>0.000000</td>\n",
       "    </tr>\n",
       "    <tr>\n",
       "      <th>25%</th>\n",
       "      <td>3.000000</td>\n",
       "      <td>5000.000000</td>\n",
       "    </tr>\n",
       "    <tr>\n",
       "      <th>50%</th>\n",
       "      <td>5.000000</td>\n",
       "      <td>5000.000000</td>\n",
       "    </tr>\n",
       "    <tr>\n",
       "      <th>75%</th>\n",
       "      <td>10.000000</td>\n",
       "      <td>10000.000000</td>\n",
       "    </tr>\n",
       "    <tr>\n",
       "      <th>max</th>\n",
       "      <td>244.000000</td>\n",
       "      <td>360000.000000</td>\n",
       "    </tr>\n",
       "  </tbody>\n",
       "</table>\n",
       "</div>"
      ],
      "text/plain": [
       "        st_amount       st_price\n",
       "count  943.000000     943.000000\n",
       "mean    17.652174   14229.703075\n",
       "std     35.881586   31257.275554\n",
       "min      0.000000       0.000000\n",
       "25%      3.000000    5000.000000\n",
       "50%      5.000000    5000.000000\n",
       "75%     10.000000   10000.000000\n",
       "max    244.000000  360000.000000"
      ]
     },
     "execution_count": 14,
     "metadata": {},
     "output_type": "execute_result"
    }
   ],
   "source": [
    "df.describe()"
   ]
  },
  {
   "cell_type": "code",
   "execution_count": 16,
   "metadata": {},
   "outputs": [
    {
     "data": {
      "text/html": [
       "<div>\n",
       "<style scoped>\n",
       "    .dataframe tbody tr th:only-of-type {\n",
       "        vertical-align: middle;\n",
       "    }\n",
       "\n",
       "    .dataframe tbody tr th {\n",
       "        vertical-align: top;\n",
       "    }\n",
       "\n",
       "    .dataframe thead th {\n",
       "        text-align: right;\n",
       "    }\n",
       "</style>\n",
       "<table border=\"1\" class=\"dataframe\">\n",
       "  <thead>\n",
       "    <tr style=\"text-align: right;\">\n",
       "      <th></th>\n",
       "      <th>st_id_ym</th>\n",
       "      <th>st_id_ga</th>\n",
       "      <th>st_created</th>\n",
       "      <th>st_location</th>\n",
       "      <th>st_branch</th>\n",
       "      <th>st_direction</th>\n",
       "      <th>st_amount</th>\n",
       "      <th>st_price</th>\n",
       "    </tr>\n",
       "  </thead>\n",
       "  <tbody>\n",
       "    <tr>\n",
       "      <th>226</th>\n",
       "      <td>1609586985682049430</td>\n",
       "      <td>GA1.2.934928888.1609586985</td>\n",
       "      <td>2021-01-02 14:30:42</td>\n",
       "      <td>Kazan</td>\n",
       "      <td>Мобильные сотрудники</td>\n",
       "      <td>Строительные бригады</td>\n",
       "      <td>3</td>\n",
       "      <td>5000.0</td>\n",
       "    </tr>\n",
       "    <tr>\n",
       "      <th>227</th>\n",
       "      <td>1609610415617206319</td>\n",
       "      <td>GA1.2.233829537.1609610416</td>\n",
       "      <td>2021-01-02 21:01:43</td>\n",
       "      <td>Barnaul</td>\n",
       "      <td>Телекоммуникации и ИТ</td>\n",
       "      <td>Выездной ИТ-сервис</td>\n",
       "      <td>5</td>\n",
       "      <td>5000.0</td>\n",
       "    </tr>\n",
       "    <tr>\n",
       "      <th>230</th>\n",
       "      <td>1609623797665217591</td>\n",
       "      <td>GA1.2.52594619.1609623797</td>\n",
       "      <td>2021-01-03 00:46:09</td>\n",
       "      <td>Minsk</td>\n",
       "      <td>Управление самозанятыми, ИП и подрядчиками</td>\n",
       "      <td>Управление ИП и самозанятыми</td>\n",
       "      <td>3</td>\n",
       "      <td>5000.0</td>\n",
       "    </tr>\n",
       "    <tr>\n",
       "      <th>233</th>\n",
       "      <td>160964815239544789</td>\n",
       "      <td>GA1.2.1046709437.1609648153</td>\n",
       "      <td>2021-01-03 07:30:46</td>\n",
       "      <td>Barnaul</td>\n",
       "      <td>Выездное обслуживание оборудования</td>\n",
       "      <td>Кондиционирование и вентиляция</td>\n",
       "      <td>3</td>\n",
       "      <td>5000.0</td>\n",
       "    </tr>\n",
       "    <tr>\n",
       "      <th>236</th>\n",
       "      <td>1609662851665134598</td>\n",
       "      <td>GA1.2.300748215.1609662851</td>\n",
       "      <td>2021-01-03 11:35:45</td>\n",
       "      <td>Shakhty</td>\n",
       "      <td>Выездное обслуживание оборудования</td>\n",
       "      <td>Технологическое оборудование</td>\n",
       "      <td>1</td>\n",
       "      <td>5000.0</td>\n",
       "    </tr>\n",
       "  </tbody>\n",
       "</table>\n",
       "</div>"
      ],
      "text/plain": [
       "                st_id_ym                     st_id_ga           st_created  \\\n",
       "226  1609586985682049430   GA1.2.934928888.1609586985  2021-01-02 14:30:42   \n",
       "227  1609610415617206319   GA1.2.233829537.1609610416  2021-01-02 21:01:43   \n",
       "230  1609623797665217591    GA1.2.52594619.1609623797  2021-01-03 00:46:09   \n",
       "233   160964815239544789  GA1.2.1046709437.1609648153  2021-01-03 07:30:46   \n",
       "236  1609662851665134598   GA1.2.300748215.1609662851  2021-01-03 11:35:45   \n",
       "\n",
       "    st_location                                   st_branch  \\\n",
       "226       Kazan                        Мобильные сотрудники   \n",
       "227     Barnaul                       Телекоммуникации и ИТ   \n",
       "230       Minsk  Управление самозанятыми, ИП и подрядчиками   \n",
       "233     Barnaul          Выездное обслуживание оборудования   \n",
       "236     Shakhty          Выездное обслуживание оборудования   \n",
       "\n",
       "                       st_direction  st_amount  st_price  \n",
       "226            Строительные бригады          3    5000.0  \n",
       "227              Выездной ИТ-сервис          5    5000.0  \n",
       "230    Управление ИП и самозанятыми          3    5000.0  \n",
       "233  Кондиционирование и вентиляция          3    5000.0  \n",
       "236    Технологическое оборудование          1    5000.0  "
      ]
     },
     "execution_count": 16,
     "metadata": {},
     "output_type": "execute_result"
    }
   ],
   "source": [
    "df.head(5)"
   ]
  },
  {
   "cell_type": "code",
   "execution_count": 17,
   "metadata": {},
   "outputs": [
    {
     "data": {
      "text/plain": [
       "(943, 8)"
      ]
     },
     "execution_count": 17,
     "metadata": {},
     "output_type": "execute_result"
    }
   ],
   "source": [
    "df.shape"
   ]
  },
  {
   "cell_type": "markdown",
   "metadata": {},
   "source": [
    "## Сохранение данных"
   ]
  },
  {
   "cell_type": "code",
   "execution_count": 18,
   "metadata": {},
   "outputs": [],
   "source": [
    "# Сохранение в файл\n",
    "df.to_csv('../data/td_site.csv', index=False, encoding='utf-8', sep=';')"
   ]
  },
  {
   "cell_type": "code",
   "execution_count": null,
   "metadata": {},
   "outputs": [],
   "source": []
  }
 ],
 "metadata": {
  "hide_input": false,
  "kernelspec": {
   "display_name": "Python 3",
   "language": "python",
   "name": "python3"
  },
  "language_info": {
   "codemirror_mode": {
    "name": "ipython",
    "version": 3
   },
   "file_extension": ".py",
   "mimetype": "text/x-python",
   "name": "python",
   "nbconvert_exporter": "python",
   "pygments_lexer": "ipython3",
   "version": "3.7.9"
  },
  "toc": {
   "base_numbering": 1,
   "nav_menu": {},
   "number_sections": true,
   "sideBar": true,
   "skip_h1_title": false,
   "title_cell": "Table of Contents",
   "title_sidebar": "Contents",
   "toc_cell": false,
   "toc_position": {
    "height": "calc(100% - 180px)",
    "left": "10px",
    "top": "150px",
    "width": "349.091px"
   },
   "toc_section_display": true,
   "toc_window_display": true
  }
 },
 "nbformat": 4,
 "nbformat_minor": 4
}
