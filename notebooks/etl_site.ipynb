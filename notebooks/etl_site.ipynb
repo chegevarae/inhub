{
 "cells": [
  {
   "cell_type": "markdown",
   "metadata": {},
   "source": [
    "# Обработка датасета"
   ]
  },
  {
   "cell_type": "markdown",
   "metadata": {},
   "source": [
    "## Библиотеки и скрипты"
   ]
  },
  {
   "cell_type": "code",
   "execution_count": 1,
   "metadata": {},
   "outputs": [],
   "source": [
    "import numpy as np\n",
    "import pandas as pd\n",
    "import re\n",
    "from transliterate import translit, get_available_language_codes\n",
    "\n",
    "# Отключаем предупреждения\n",
    "import warnings\n",
    "warnings.simplefilter('ignore')"
   ]
  },
  {
   "cell_type": "code",
   "execution_count": 2,
   "metadata": {},
   "outputs": [],
   "source": [
    "# Функция приведения типов\n",
    "def astype_col(df, colgroup, coltype):\n",
    "    for colname in colgroup:\n",
    "        df[colname] = df[colname].astype(coltype)\n",
    "    return df\n",
    "\n",
    "# Функция удаления столбцов\n",
    "def drop_columns(df, columns):\n",
    "    for column in columns:\n",
    "        df = df.drop(column, axis=1)  \n",
    "    return df\n",
    "\n",
    "# Функция транслитерации\n",
    "def get_translite(columns):\n",
    "    lst = []\n",
    "    prefix = 'ST_'\n",
    "    for column in columns:\n",
    "        r = translit(prefix + column, 'ru', reversed=True).lower()\n",
    "        r = re.sub(\"\\'|\\(|\\)|:\", \"\", r)\n",
    "        r = re.sub(\"\\ |-|‑\", \"_\", r)\n",
    "        lst.append(r)\n",
    "    return lst\n",
    "\n",
    "# Функция получение имен столбцов с индексом\n",
    "def get_idx_columns(columns):\n",
    "    lst = []\n",
    "    for index, value in enumerate(columns):\n",
    "        print(index, value)\n",
    "        lst.append(index)\n",
    "    print(lst)"
   ]
  },
  {
   "cell_type": "markdown",
   "metadata": {},
   "source": [
    "## Обзор данных"
   ]
  },
  {
   "cell_type": "code",
   "execution_count": 3,
   "metadata": {},
   "outputs": [],
   "source": [
    "# Загружаем датасет без 1-й строки и делаем переиндексацию с удалением столбца index\n",
    "df = pd.read_csv('../data/wp_cn_requests_price.csv')\n",
    "# Удаляем дубликаты по id_session\n",
    "df = df.drop_duplicates(subset='id_session', keep=\"first\")"
   ]
  },
  {
   "cell_type": "code",
   "execution_count": 4,
   "metadata": {},
   "outputs": [
    {
     "data": {
      "text/html": [
       "<div>\n",
       "<style scoped>\n",
       "    .dataframe tbody tr th:only-of-type {\n",
       "        vertical-align: middle;\n",
       "    }\n",
       "\n",
       "    .dataframe tbody tr th {\n",
       "        vertical-align: top;\n",
       "    }\n",
       "\n",
       "    .dataframe thead th {\n",
       "        text-align: right;\n",
       "    }\n",
       "</style>\n",
       "<table border=\"1\" class=\"dataframe\">\n",
       "  <thead>\n",
       "    <tr style=\"text-align: right;\">\n",
       "      <th></th>\n",
       "      <th>id</th>\n",
       "      <th>id_session</th>\n",
       "      <th>id_YM</th>\n",
       "      <th>id_GA</th>\n",
       "      <th>created</th>\n",
       "      <th>location</th>\n",
       "      <th>branch</th>\n",
       "      <th>direction</th>\n",
       "      <th>amount</th>\n",
       "      <th>price</th>\n",
       "    </tr>\n",
       "  </thead>\n",
       "  <tbody>\n",
       "    <tr>\n",
       "      <th>0</th>\n",
       "      <td>15</td>\n",
       "      <td>e70acf53510a6d7e46f75e16bf37a4eb</td>\n",
       "      <td></td>\n",
       "      <td>NaN</td>\n",
       "      <td>2020-12-23 10:35:19</td>\n",
       "      <td>Yeysk</td>\n",
       "      <td>Выездное обслуживание оборудования</td>\n",
       "      <td>Спецтехника</td>\n",
       "      <td>100</td>\n",
       "      <td>800</td>\n",
       "    </tr>\n",
       "    <tr>\n",
       "      <th>1</th>\n",
       "      <td>19</td>\n",
       "      <td>20d25acbd2795a7359e42fadbc91cc25</td>\n",
       "      <td></td>\n",
       "      <td>NaN</td>\n",
       "      <td>2020-12-23 10:48:21</td>\n",
       "      <td>St Petersburg</td>\n",
       "      <td>Выездное обслуживание оборудования</td>\n",
       "      <td>Торговое оборудование</td>\n",
       "      <td>2</td>\n",
       "      <td>5000</td>\n",
       "    </tr>\n",
       "    <tr>\n",
       "      <th>2</th>\n",
       "      <td>20</td>\n",
       "      <td>7af0528d1dc81ea5a58205ed46fd8272</td>\n",
       "      <td></td>\n",
       "      <td>NaN</td>\n",
       "      <td>2020-12-23 10:49:58</td>\n",
       "      <td>St Petersburg</td>\n",
       "      <td>Здравоохранение и медицина</td>\n",
       "      <td>Обслуживание медицинского оборудования</td>\n",
       "      <td>5</td>\n",
       "      <td>10000</td>\n",
       "    </tr>\n",
       "    <tr>\n",
       "      <th>6</th>\n",
       "      <td>25</td>\n",
       "      <td>08d113256a6b43aa56933083cd4afdd1</td>\n",
       "      <td></td>\n",
       "      <td>NaN</td>\n",
       "      <td>2020-12-23 12:13:32</td>\n",
       "      <td>Moscow</td>\n",
       "      <td>Выездное обслуживание оборудования</td>\n",
       "      <td>Постаматы, вендинг, банкоматы</td>\n",
       "      <td>200</td>\n",
       "      <td>790</td>\n",
       "    </tr>\n",
       "    <tr>\n",
       "      <th>11</th>\n",
       "      <td>30</td>\n",
       "      <td>20350ef6faa93b10cb4d17be08ab6fe3</td>\n",
       "      <td></td>\n",
       "      <td>NaN</td>\n",
       "      <td>2020-12-23 13:07:43</td>\n",
       "      <td>St Petersburg</td>\n",
       "      <td>Управление недвижимостью, ЖКХ</td>\n",
       "      <td>Обслуживание и ремонт БЦ/ТЦ</td>\n",
       "      <td>22</td>\n",
       "      <td>1990</td>\n",
       "    </tr>\n",
       "  </tbody>\n",
       "</table>\n",
       "</div>"
      ],
      "text/plain": [
       "    id                        id_session id_YM id_GA              created  \\\n",
       "0   15  e70acf53510a6d7e46f75e16bf37a4eb         NaN  2020-12-23 10:35:19   \n",
       "1   19  20d25acbd2795a7359e42fadbc91cc25         NaN  2020-12-23 10:48:21   \n",
       "2   20  7af0528d1dc81ea5a58205ed46fd8272         NaN  2020-12-23 10:49:58   \n",
       "6   25  08d113256a6b43aa56933083cd4afdd1         NaN  2020-12-23 12:13:32   \n",
       "11  30  20350ef6faa93b10cb4d17be08ab6fe3         NaN  2020-12-23 13:07:43   \n",
       "\n",
       "         location                              branch  \\\n",
       "0           Yeysk  Выездное обслуживание оборудования   \n",
       "1   St Petersburg  Выездное обслуживание оборудования   \n",
       "2   St Petersburg          Здравоохранение и медицина   \n",
       "6          Moscow  Выездное обслуживание оборудования   \n",
       "11  St Petersburg       Управление недвижимостью, ЖКХ   \n",
       "\n",
       "                                 direction  amount  price  \n",
       "0                              Спецтехника     100    800  \n",
       "1                    Торговое оборудование       2   5000  \n",
       "2   Обслуживание медицинского оборудования       5  10000  \n",
       "6            Постаматы, вендинг, банкоматы     200    790  \n",
       "11            Обслуживание и ремонт БЦ/ТЦ       22   1990  "
      ]
     },
     "execution_count": 4,
     "metadata": {},
     "output_type": "execute_result"
    }
   ],
   "source": [
    "df.head(5)"
   ]
  },
  {
   "cell_type": "code",
   "execution_count": 5,
   "metadata": {},
   "outputs": [
    {
     "data": {
      "text/plain": [
       "(1205, 10)"
      ]
     },
     "execution_count": 5,
     "metadata": {},
     "output_type": "execute_result"
    }
   ],
   "source": [
    "df.shape"
   ]
  },
  {
   "cell_type": "markdown",
   "metadata": {},
   "source": [
    "## Обработка данных"
   ]
  },
  {
   "cell_type": "code",
   "execution_count": 6,
   "metadata": {},
   "outputs": [],
   "source": [
    "# Удаление ненужных данных\n",
    "columns = ['id', 'id_session']\n",
    "df = drop_columns(df, columns)\n",
    "\n",
    "# Убираем 2020 год (там одни тесты)\n",
    "df = df[df['created'].str.contains('2021.*')]"
   ]
  },
  {
   "cell_type": "code",
   "execution_count": 7,
   "metadata": {},
   "outputs": [
    {
     "data": {
      "text/plain": [
       "Index(['id_YM', 'id_GA', 'created', 'location', 'branch', 'direction',\n",
       "       'amount', 'price'],\n",
       "      dtype='object')"
      ]
     },
     "execution_count": 7,
     "metadata": {},
     "output_type": "execute_result"
    }
   ],
   "source": [
    "df.columns"
   ]
  },
  {
   "cell_type": "code",
   "execution_count": 8,
   "metadata": {},
   "outputs": [
    {
     "data": {
      "text/plain": [
       "Index(['st_id_ym', 'st_id_ga', 'st_created', 'st_location', 'st_branch',\n",
       "       'st_direction', 'st_amount', 'st_price'],\n",
       "      dtype='object')"
      ]
     },
     "execution_count": 8,
     "metadata": {},
     "output_type": "execute_result"
    }
   ],
   "source": [
    "# Переименование столбцов\n",
    "df.columns = get_translite(df.columns)\n",
    "df.columns"
   ]
  },
  {
   "cell_type": "code",
   "execution_count": 9,
   "metadata": {},
   "outputs": [
    {
     "name": "stdout",
     "output_type": "stream",
     "text": [
      "<class 'pandas.core.frame.DataFrame'>\n",
      "Int64Index: 1110 entries, 226 to 2513\n",
      "Data columns (total 8 columns):\n",
      " #   Column        Non-Null Count  Dtype \n",
      "---  ------        --------------  ----- \n",
      " 0   st_id_ym      1110 non-null   object\n",
      " 1   st_id_ga      1030 non-null   object\n",
      " 2   st_created    1110 non-null   object\n",
      " 3   st_location   1110 non-null   object\n",
      " 4   st_branch     1110 non-null   object\n",
      " 5   st_direction  1110 non-null   object\n",
      " 6   st_amount     1110 non-null   int64 \n",
      " 7   st_price      1110 non-null   object\n",
      "dtypes: int64(1), object(7)\n",
      "memory usage: 78.0+ KB\n"
     ]
    },
    {
     "data": {
      "text/plain": [
       "st_id_ym         0\n",
       "st_id_ga        80\n",
       "st_created       0\n",
       "st_location      0\n",
       "st_branch        0\n",
       "st_direction     0\n",
       "st_amount        0\n",
       "st_price         0\n",
       "dtype: int64"
      ]
     },
     "execution_count": 9,
     "metadata": {},
     "output_type": "execute_result"
    }
   ],
   "source": [
    "df.info()\n",
    "df.isna().sum()"
   ]
  },
  {
   "cell_type": "code",
   "execution_count": 10,
   "metadata": {},
   "outputs": [],
   "source": [
    "# Обработка выбросов\n",
    "df.loc[df['st_amount'] > 2000, 'st_amount'] = df['st_amount'].median()"
   ]
  },
  {
   "cell_type": "code",
   "execution_count": 11,
   "metadata": {},
   "outputs": [],
   "source": [
    "# Корректировка значений\n",
    "df.loc[df['st_id_ym'] == '', 'st_id_ym'] = 'undefined'\n",
    "df.loc[df['st_id_ga'] == '', 'st_id_ga'] = 'undefined'\n",
    "df.loc[df['st_id_ym'].isnull(), 'st_id_ym'] = 'undefined'\n",
    "df.loc[df['st_id_ga'].isnull(), 'st_id_ga'] = 'undefined'\n",
    "df.loc[df['st_price'] == 'По запросу', 'st_price'] = 0\n",
    "df.loc[df['st_price'] == 0.0, 'st_price'] = df['st_price'].median()\n",
    "\n",
    "# Поиск и замена по регулярке\n",
    "df.loc[df['st_location'].str.contains(\"’\"), 'st_location'] = df['st_location'].str.replace(\"’\", \"\")\n",
    "df.loc[df['st_location'].str.contains(r\"\\\\'\"), 'st_location'] = df['st_location'].str.replace(r\"\\\\'\", \"\")\n",
    "\n",
    "# Заменим название направления типа \"Другое\" на название корневой отрасли\n",
    "df.loc[df['st_direction'] == 'Другое', 'st_direction'] = df['st_branch']"
   ]
  },
  {
   "cell_type": "code",
   "execution_count": 12,
   "metadata": {},
   "outputs": [],
   "source": [
    "# df.loc[df['st_location'].str.contains(\"\\'\")]"
   ]
  },
  {
   "cell_type": "code",
   "execution_count": 13,
   "metadata": {},
   "outputs": [],
   "source": [
    "# Приведение типов\n",
    "df = astype_col(df, ['st_amount'], coltype='uint8')\n",
    "df = astype_col(df, ['st_price'], coltype='float64')"
   ]
  },
  {
   "cell_type": "code",
   "execution_count": 14,
   "metadata": {
    "scrolled": true
   },
   "outputs": [
    {
     "name": "stdout",
     "output_type": "stream",
     "text": [
      "<class 'pandas.core.frame.DataFrame'>\n",
      "Int64Index: 1110 entries, 226 to 2513\n",
      "Data columns (total 8 columns):\n",
      " #   Column        Non-Null Count  Dtype  \n",
      "---  ------        --------------  -----  \n",
      " 0   st_id_ym      1110 non-null   object \n",
      " 1   st_id_ga      1110 non-null   object \n",
      " 2   st_created    1110 non-null   object \n",
      " 3   st_location   1110 non-null   object \n",
      " 4   st_branch     1110 non-null   object \n",
      " 5   st_direction  1110 non-null   object \n",
      " 6   st_amount     1110 non-null   uint8  \n",
      " 7   st_price      1110 non-null   float64\n",
      "dtypes: float64(1), object(6), uint8(1)\n",
      "memory usage: 102.7+ KB\n"
     ]
    }
   ],
   "source": [
    "df.info()"
   ]
  },
  {
   "cell_type": "code",
   "execution_count": 15,
   "metadata": {
    "scrolled": true
   },
   "outputs": [
    {
     "data": {
      "text/html": [
       "<div>\n",
       "<style scoped>\n",
       "    .dataframe tbody tr th:only-of-type {\n",
       "        vertical-align: middle;\n",
       "    }\n",
       "\n",
       "    .dataframe tbody tr th {\n",
       "        vertical-align: top;\n",
       "    }\n",
       "\n",
       "    .dataframe thead th {\n",
       "        text-align: right;\n",
       "    }\n",
       "</style>\n",
       "<table border=\"1\" class=\"dataframe\">\n",
       "  <thead>\n",
       "    <tr style=\"text-align: right;\">\n",
       "      <th></th>\n",
       "      <th>st_amount</th>\n",
       "      <th>st_price</th>\n",
       "    </tr>\n",
       "  </thead>\n",
       "  <tbody>\n",
       "    <tr>\n",
       "      <th>count</th>\n",
       "      <td>1110.000000</td>\n",
       "      <td>1110.000000</td>\n",
       "    </tr>\n",
       "    <tr>\n",
       "      <th>mean</th>\n",
       "      <td>18.094595</td>\n",
       "      <td>14339.909910</td>\n",
       "    </tr>\n",
       "    <tr>\n",
       "      <th>std</th>\n",
       "      <td>37.918344</td>\n",
       "      <td>33305.220302</td>\n",
       "    </tr>\n",
       "    <tr>\n",
       "      <th>min</th>\n",
       "      <td>0.000000</td>\n",
       "      <td>0.000000</td>\n",
       "    </tr>\n",
       "    <tr>\n",
       "      <th>25%</th>\n",
       "      <td>3.000000</td>\n",
       "      <td>5000.000000</td>\n",
       "    </tr>\n",
       "    <tr>\n",
       "      <th>50%</th>\n",
       "      <td>5.000000</td>\n",
       "      <td>5000.000000</td>\n",
       "    </tr>\n",
       "    <tr>\n",
       "      <th>75%</th>\n",
       "      <td>10.000000</td>\n",
       "      <td>9500.000000</td>\n",
       "    </tr>\n",
       "    <tr>\n",
       "      <th>max</th>\n",
       "      <td>250.000000</td>\n",
       "      <td>378500.000000</td>\n",
       "    </tr>\n",
       "  </tbody>\n",
       "</table>\n",
       "</div>"
      ],
      "text/plain": [
       "         st_amount       st_price\n",
       "count  1110.000000    1110.000000\n",
       "mean     18.094595   14339.909910\n",
       "std      37.918344   33305.220302\n",
       "min       0.000000       0.000000\n",
       "25%       3.000000    5000.000000\n",
       "50%       5.000000    5000.000000\n",
       "75%      10.000000    9500.000000\n",
       "max     250.000000  378500.000000"
      ]
     },
     "execution_count": 15,
     "metadata": {},
     "output_type": "execute_result"
    }
   ],
   "source": [
    "df.describe()"
   ]
  },
  {
   "cell_type": "code",
   "execution_count": 16,
   "metadata": {},
   "outputs": [],
   "source": [
    "# Скорректируем дату для более удобной группировки данных\n",
    "# df['st_created'] = pd.to_datetime(df['st_created']).dt.strftime('%Y-%m-%d')"
   ]
  },
  {
   "cell_type": "code",
   "execution_count": 17,
   "metadata": {},
   "outputs": [
    {
     "data": {
      "text/html": [
       "<div>\n",
       "<style scoped>\n",
       "    .dataframe tbody tr th:only-of-type {\n",
       "        vertical-align: middle;\n",
       "    }\n",
       "\n",
       "    .dataframe tbody tr th {\n",
       "        vertical-align: top;\n",
       "    }\n",
       "\n",
       "    .dataframe thead th {\n",
       "        text-align: right;\n",
       "    }\n",
       "</style>\n",
       "<table border=\"1\" class=\"dataframe\">\n",
       "  <thead>\n",
       "    <tr style=\"text-align: right;\">\n",
       "      <th></th>\n",
       "      <th>st_id_ym</th>\n",
       "      <th>st_id_ga</th>\n",
       "      <th>st_created</th>\n",
       "      <th>st_location</th>\n",
       "      <th>st_branch</th>\n",
       "      <th>st_direction</th>\n",
       "      <th>st_amount</th>\n",
       "      <th>st_price</th>\n",
       "    </tr>\n",
       "  </thead>\n",
       "  <tbody>\n",
       "    <tr>\n",
       "      <th>226</th>\n",
       "      <td>1609586985682049430</td>\n",
       "      <td>GA1.2.934928888.1609586985</td>\n",
       "      <td>2021-01-02 14:30:42</td>\n",
       "      <td>Kazan</td>\n",
       "      <td>Мобильные сотрудники</td>\n",
       "      <td>Строительные бригады</td>\n",
       "      <td>3</td>\n",
       "      <td>5000.0</td>\n",
       "    </tr>\n",
       "    <tr>\n",
       "      <th>227</th>\n",
       "      <td>1609610415617206319</td>\n",
       "      <td>GA1.2.233829537.1609610416</td>\n",
       "      <td>2021-01-02 21:01:43</td>\n",
       "      <td>Barnaul</td>\n",
       "      <td>Телекоммуникации и ИТ</td>\n",
       "      <td>Выездной ИТ-сервис</td>\n",
       "      <td>5</td>\n",
       "      <td>5000.0</td>\n",
       "    </tr>\n",
       "    <tr>\n",
       "      <th>228</th>\n",
       "      <td>undefined</td>\n",
       "      <td>undefined</td>\n",
       "      <td>2021-01-02 23:45:30</td>\n",
       "      <td>Sergiyev Posad</td>\n",
       "      <td>Управление недвижимостью, ЖКХ</td>\n",
       "      <td>ЖКХ сервис</td>\n",
       "      <td>3</td>\n",
       "      <td>20000.0</td>\n",
       "    </tr>\n",
       "    <tr>\n",
       "      <th>230</th>\n",
       "      <td>1609623797665217591</td>\n",
       "      <td>GA1.2.52594619.1609623797</td>\n",
       "      <td>2021-01-03 00:46:09</td>\n",
       "      <td>Minsk</td>\n",
       "      <td>Управление самозанятыми, ИП и подрядчиками</td>\n",
       "      <td>Управление ИП и самозанятыми</td>\n",
       "      <td>3</td>\n",
       "      <td>5000.0</td>\n",
       "    </tr>\n",
       "    <tr>\n",
       "      <th>233</th>\n",
       "      <td>160964815239544789</td>\n",
       "      <td>GA1.2.1046709437.1609648153</td>\n",
       "      <td>2021-01-03 07:30:46</td>\n",
       "      <td>Barnaul</td>\n",
       "      <td>Выездное обслуживание оборудования</td>\n",
       "      <td>Кондиционирование и вентиляция</td>\n",
       "      <td>3</td>\n",
       "      <td>5000.0</td>\n",
       "    </tr>\n",
       "  </tbody>\n",
       "</table>\n",
       "</div>"
      ],
      "text/plain": [
       "                st_id_ym                     st_id_ga           st_created  \\\n",
       "226  1609586985682049430   GA1.2.934928888.1609586985  2021-01-02 14:30:42   \n",
       "227  1609610415617206319   GA1.2.233829537.1609610416  2021-01-02 21:01:43   \n",
       "228            undefined                    undefined  2021-01-02 23:45:30   \n",
       "230  1609623797665217591    GA1.2.52594619.1609623797  2021-01-03 00:46:09   \n",
       "233   160964815239544789  GA1.2.1046709437.1609648153  2021-01-03 07:30:46   \n",
       "\n",
       "        st_location                                   st_branch  \\\n",
       "226           Kazan                        Мобильные сотрудники   \n",
       "227         Barnaul                       Телекоммуникации и ИТ   \n",
       "228  Sergiyev Posad               Управление недвижимостью, ЖКХ   \n",
       "230           Minsk  Управление самозанятыми, ИП и подрядчиками   \n",
       "233         Barnaul          Выездное обслуживание оборудования   \n",
       "\n",
       "                       st_direction  st_amount  st_price  \n",
       "226            Строительные бригады          3    5000.0  \n",
       "227              Выездной ИТ-сервис          5    5000.0  \n",
       "228                      ЖКХ сервис          3   20000.0  \n",
       "230    Управление ИП и самозанятыми          3    5000.0  \n",
       "233  Кондиционирование и вентиляция          3    5000.0  "
      ]
     },
     "execution_count": 17,
     "metadata": {},
     "output_type": "execute_result"
    }
   ],
   "source": [
    "df.head(5)"
   ]
  },
  {
   "cell_type": "code",
   "execution_count": 18,
   "metadata": {},
   "outputs": [
    {
     "data": {
      "text/plain": [
       "(1110, 8)"
      ]
     },
     "execution_count": 18,
     "metadata": {},
     "output_type": "execute_result"
    }
   ],
   "source": [
    "df.shape"
   ]
  },
  {
   "cell_type": "markdown",
   "metadata": {},
   "source": [
    "## Сохранение данных"
   ]
  },
  {
   "cell_type": "code",
   "execution_count": 19,
   "metadata": {},
   "outputs": [],
   "source": [
    "# Сохраняем в файл\n",
    "df.to_csv('../data/td_site.csv', index=False, encoding='utf-8', sep=';')"
   ]
  },
  {
   "cell_type": "code",
   "execution_count": null,
   "metadata": {},
   "outputs": [],
   "source": []
  }
 ],
 "metadata": {
  "hide_input": false,
  "kernelspec": {
   "display_name": "Python 3",
   "language": "python",
   "name": "python3"
  },
  "language_info": {
   "codemirror_mode": {
    "name": "ipython",
    "version": 3
   },
   "file_extension": ".py",
   "mimetype": "text/x-python",
   "name": "python",
   "nbconvert_exporter": "python",
   "pygments_lexer": "ipython3",
   "version": "3.7.9"
  },
  "toc": {
   "base_numbering": 1,
   "nav_menu": {},
   "number_sections": true,
   "sideBar": true,
   "skip_h1_title": false,
   "title_cell": "Table of Contents",
   "title_sidebar": "Contents",
   "toc_cell": false,
   "toc_position": {
    "height": "calc(100% - 180px)",
    "left": "10px",
    "top": "150px",
    "width": "349.091px"
   },
   "toc_section_display": true,
   "toc_window_display": true
  }
 },
 "nbformat": 4,
 "nbformat_minor": 4
}
